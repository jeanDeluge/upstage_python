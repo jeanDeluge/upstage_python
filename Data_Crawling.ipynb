{
 "cells": [
  {
   "cell_type": "markdown",
   "id": "a9202465-94c7-42ad-9e87-48dd51aa0ae8",
   "metadata": {},
   "source": [
    "### 글로벌 도시 현재시간 & 날씨 crawling"
   ]
  },
  {
   "cell_type": "code",
   "execution_count": null,
   "id": "49f454d7-4c83-49e2-b975-b674ec51dbe5",
   "metadata": {},
   "outputs": [],
   "source": [
    "import time\n",
    "import csv\n",
    "import pandas as pd\n",
    "import schedule\n",
    "\n",
    "import warnings\n",
    "warnings.filterwarnings('ignore')"
   ]
  },
  {
   "cell_type": "code",
   "execution_count": null,
   "id": "ab8b127a-1909-419f-8a14-4decbff26088",
   "metadata": {},
   "outputs": [],
   "source": [
    "from textrankr import TextRank\n",
    "from typing import List\n",
    "from newspaper import Article"
   ]
  },
  {
   "cell_type": "code",
   "execution_count": null,
   "id": "2659eb31-825b-40b7-b9d3-c7d80c7397e6",
   "metadata": {},
   "outputs": [],
   "source": [
    "# driver 설정\n",
    "from selenium import webdriver \n",
    "from selenium.webdriver.common.by import By\n",
    "        \n",
    "# chrome driver\n",
    "driver = webdriver.Chrome()"
   ]
  },
  {
   "cell_type": "markdown",
   "id": "8396a159-8e60-4d99-b056-c789a84bc77c",
   "metadata": {},
   "source": [
    "### IT뉴스(오전 9:30수집)"
   ]
  },
  {
   "cell_type": "code",
   "execution_count": null,
   "id": "032bfa06-8a51-4a92-9d27-6749e5a52a1b",
   "metadata": {},
   "outputs": [],
   "source": [
    "def crawling_news():\n",
    "    \n",
    "    # 리스트 형식으로 저장하기 위한 클래스 선언\n",
    "    class MyTokenizer:\n",
    "        def __call__(self,text:str)->List[str]:\n",
    "            tokens: List[str]=text.split()\n",
    "            return tokens\n",
    "    # 리스트 형식으로 저장하는 공간만들고 그 공간에 데이터 요약\n",
    "    mytokenizer: MyTokenizer=MyTokenizer()\n",
    "    textrank: TextRank = TextRank(mytokenizer)\n",
    "    k=3 # 요약 데이터 3줄까지 설정\n",
    "    \n",
    "    \n",
    "    url='https://news.naver.com/section/105'\n",
    "    driver.get(url)\n",
    "    time.sleep(0.3)\n",
    "    \n",
    "    driver.find_element(By.XPATH,'//*[@id=\"newsct\"]/div[1]/div[2]/a').click()\n",
    "    time.sleep(0.3)\n",
    "    \n",
    "    # 뉴스 기사가 몇개 잇는지\n",
    "    news_list=driver.find_elements(By.CLASS_NAME,'sa_item._SECTION_HEADLINE')\n",
    "\n",
    "    # csv저장을 위한 dataframe 생성\n",
    "    df = pd.DataFrame(columns=['title','company','url','summarize_content','content','ai_summary'])\n",
    "\n",
    "    title_list=[]\n",
    "    company_list=[]\n",
    "    summarize_content_list=[]\n",
    "    url_list=[]\n",
    "    content_list=[]\n",
    "    ai_summary_content_list=[]\n",
    "\n",
    "    for news in news_list:\n",
    "        print('-----------')\n",
    "        title = news.find_element(By.CLASS_NAME, 'sa_text_strong').text #뉴스제목\n",
    "        company = news.find_element(By.CLASS_NAME, 'sa_text_press').text #언론사\n",
    "        summarize_content = news.find_element(By.CLASS_NAME, 'sa_text_lede').text #내용\n",
    "        url = news.find_element(By.CLASS_NAME, 'sa_text_title').get_attribute('href') #작성일\n",
    "\n",
    "        title_list.append(title)\n",
    "        company_list.append(company)\n",
    "        summarize_content_list.append(summarize_content)\n",
    "        url_list.append(url)\n",
    "\n",
    "    for url in url_list:\n",
    "        driver.get(url)\n",
    "        content=driver.find_element(By.CLASS_NAME, 'go_trans._article_content').text #내용\n",
    "        print(content)\n",
    "        ai_summary: str = textrank.summarize(content,k)\n",
    "        print(ai_summary) \n",
    "        \n",
    "        time.sleep(1)\n",
    "        content_list.append(content)\n",
    "        ai_summary_content_list.append(ai_summary)\n",
    "    \n",
    "    # df.loc[cnt] = [title,company,summarize_content,ai_summary,url]\n",
    "    df['title']=title_list\n",
    "    df['company']=company_list\n",
    "    df['url']=url_list\n",
    "    df['summarize_content']=summarize_content_list\n",
    "    df['content']=content_list\n",
    "    df['ai_summary']=ai_summary_content_list\n",
    "    \n",
    "    # dataframe를 csv로 저장\n",
    "    df.to_csv(\"news.csv\", encoding='utf-8-sig',index=False)"
   ]
  },
  {
   "cell_type": "code",
   "execution_count": null,
   "id": "e8155fc2-34e3-44a7-9767-a1b7342267fa",
   "metadata": {},
   "outputs": [],
   "source": [
    "# schedule.every().day.at(\"09:30\").do(crawling_news)\n",
    "schedule.every(14).seconds.do(crawling_news)\n",
    "while True:\n",
    "    schedule.run_pending()\n",
    "    time.sleep(1)"
   ]
  },
  {
   "cell_type": "markdown",
   "id": "824a8152-90ff-43fd-b764-ea38e2b188d3",
   "metadata": {},
   "source": [
    "### 웹사이트에서 도시 검색"
   ]
  },
  {
   "cell_type": "markdown",
   "id": "c7fe48e2-5573-43b0-9ba0-66ecad5100eb",
   "metadata": {},
   "source": [
    "뉴욕 - 런던 - 파리 - 도쿄 - 베이징 - 홍콩 - 로스앤젤레스 - 시카고 - 싱가포르 - 워싱턴 D.C."
   ]
  },
  {
   "cell_type": "code",
   "execution_count": null,
   "id": "5fc8b59d-cd04-4f17-b05f-f7683a36f4a2",
   "metadata": {},
   "outputs": [],
   "source": [
    "url='https://m.naver.com/'\n",
    "driver.get(url)\n",
    "time.sleep(1)\n",
    "\n",
    "# 세계 도시 목록 \n",
    "global_citys=['뉴욕','런던','파리','도쿄','베이징','홍콩','로스앤젤레스','시카고','싱가포르','워싱턴 D.C.']\n",
    "\n",
    "# 사용자의 응답 중 검색원하는 도시 추출\n",
    "citys=[]\n",
    "for user_answer in user_answers:\n",
    "    if user_answer in global_citys:\n",
    "        citys.append(user_answer)\n",
    "\n",
    "# 일단은 첫번째 도시만 검색하게 구현\n",
    "city=citys[0]\n",
    "\n",
    "# 사용자가 무엇을 원하는지? 1) 날씨 2) 현지시각 3)뉴스\n",
    "selection=['날씨','현지시각']\n",
    "\n",
    "driver.find_element(By.XPATH,'//*[@id=\"MM_SEARCH_FAKE\"]').click()\n",
    "driver.find_element(By.XPATH,'//*[@id=\"query\"]').send_keys(f'{city} 날씨')\n",
    "driver.find_element(By.XPATH,'//*[@id=\"sch_w\"]/div/form/button').click()\n",
    "time.sleep(1)\n",
    "\n",
    "# 글로벌 도시 날씨\n",
    "if '날씨' in selection:\n",
    "    \n",
    "    # csv저장을 위한 dataframe 생성\n",
    "    df = pd.DataFrame(columns=['city','temperature','sky','feel_temperature']) \n",
    "    \n",
    "    weather = driver.find_element(By.XPATH,'//*[@id=\"ct\"]/section[1]/div/div[2]/div/div/div[1]/div[1]/div/div[2]/div/div[1]/div[2]').text\n",
    "    weather=weather.split('\\n') \n",
    "    temperature=\" \".join(weather[0:2])\n",
    "    sky=weather[2]\n",
    "    feel_temperature=weather[3]\n",
    "    \n",
    "    print(temperature, sky, feel_temperature)\n",
    "    df.loc[0] = [city,temperature, sky, feel_temperature]\n",
    "    \n",
    "    # dataframe를 csv로 저장\n",
    "    df.to_csv(\"city_weather.csv\", encoding='utf-8-sig',index=False) # dataframe을 csv로\n",
    "\n",
    "# 글로벌 도시 현지시각    \n",
    "if '현지시각' in selection:\n",
    "    \n",
    "    # csv저장을 위한 dataframe 생성\n",
    "    df = pd.DataFrame(columns=['city','city_time']) \n",
    "    \n",
    "    city_time=driver.find_element(By.XPATH,'//*[@id=\"ct\"]/section[1]/div/div[2]/div/div/div[1]/div[1]/div/div[2]/div/div[2]/dl[1]/dd[1]').text\n",
    "    print(city_time)\n",
    "    \n",
    "    df.loc[0] = [city,city_time]\n",
    "\n",
    "    # dataframe를 csv로 저장\n",
    "    df.to_csv(\"city_time.csv\", encoding='utf-8-sig',index=False) # dataframe을 csv로\n",
    "\n",
    "# 글로벌 뉴스 \n",
    "if '뉴스' in selection :\n",
    "  # csv 만들고 보내는 코드 추후 구현\n",
    "  pass"
   ]
  },
  {
   "cell_type": "markdown",
   "id": "e51f6680-dee0-4d91-bf10-0b501dbe0835",
   "metadata": {},
   "source": [
    "# 뉴스 데이터분석"
   ]
  },
  {
   "cell_type": "markdown",
   "id": "23e98951-1232-4aeb-b22f-828810db8ad7",
   "metadata": {},
   "source": [
    "### 뉴스 구성 단어 분석"
   ]
  },
  {
   "cell_type": "code",
   "execution_count": 32,
   "id": "8ce4c99b-6311-4b6a-bff4-05bb8a7c84f6",
   "metadata": {},
   "outputs": [],
   "source": [
    "from konlpy.tag import Okt\n",
    "import pandas as pd\n",
    "import numpy as np"
   ]
  },
  {
   "cell_type": "code",
   "execution_count": 12,
   "id": "da110418-be15-4523-a252-418801e38f65",
   "metadata": {},
   "outputs": [],
   "source": [
    "okt = Okt()\n",
    "\n",
    "df=pd.read_csv('news.csv',encoding='utf-8-sig')\n",
    "df['content_token'] = df['content'].apply(lambda x: ','.join([word for word, pos in okt.pos(x) if pos in ['Noun']])) #'Adjective','Verb'"
   ]
  },
  {
   "cell_type": "code",
   "execution_count": 34,
   "id": "166f789a-5360-4b6f-8dd2-cf599f4bc237",
   "metadata": {},
   "outputs": [
    {
     "data": {
      "text/html": [
       "<div>\n",
       "<style scoped>\n",
       "    .dataframe tbody tr th:only-of-type {\n",
       "        vertical-align: middle;\n",
       "    }\n",
       "\n",
       "    .dataframe tbody tr th {\n",
       "        vertical-align: top;\n",
       "    }\n",
       "\n",
       "    .dataframe thead th {\n",
       "        text-align: right;\n",
       "    }\n",
       "</style>\n",
       "<table border=\"1\" class=\"dataframe\">\n",
       "  <thead>\n",
       "    <tr style=\"text-align: right;\">\n",
       "      <th></th>\n",
       "      <th>content_token</th>\n",
       "    </tr>\n",
       "  </thead>\n",
       "  <tbody>\n",
       "    <tr>\n",
       "      <th>0</th>\n",
       "      <td>책임감,기술,서비스,개발,집중,신뢰,안전,생태계,구축,협력,카카오,글로벌,오픈,소스...</td>\n",
       "    </tr>\n",
       "    <tr>\n",
       "      <th>1</th>\n",
       "      <td>과학기술,정보통신부,한국,지능,정보사회,진흥,데이터,플래그,사업,과,데이터,활용,기...</td>\n",
       "    </tr>\n",
       "    <tr>\n",
       "      <th>2</th>\n",
       "      <td>막스,플랑크,연구,회,글로벌,과학,리더,포럼,공동,개최,과,정통부,제공,서울,뉴스,...</td>\n",
       "    </tr>\n",
       "    <tr>\n",
       "      <th>3</th>\n",
       "      <td>달,개최,화성,탐사,체험,등,계,프로그램,마련,국립과천과학관,제공,서울,뉴스,윤주영...</td>\n",
       "    </tr>\n",
       "    <tr>\n",
       "      <th>4</th>\n",
       "      <td>이동수,네이버,클라우드,이사,인텔,칩,성능,가격,매력,엔비디아,독주,칩,시장,인텔,...</td>\n",
       "    </tr>\n",
       "    <tr>\n",
       "      <th>5</th>\n",
       "      <td>국내,게임,최초,게임,어워즈,수상,넥슨,제공,뉴스,서울,뉴스,김승준,기자,넥슨,영국...</td>\n",
       "    </tr>\n",
       "    <tr>\n",
       "      <th>6</th>\n",
       "      <td>미생물,식품,생산,활용,여러,지속,원료,및,활용,미생물,바이오매스,생산,전략,제공,...</td>\n",
       "    </tr>\n",
       "    <tr>\n",
       "      <th>7</th>\n",
       "      <td>어도비,마이크로소프트,파트너,체결,발표,새,파트너,양사,어도비,익스,피리,언스,클라...</td>\n",
       "    </tr>\n",
       "  </tbody>\n",
       "</table>\n",
       "</div>"
      ],
      "text/plain": [
       "                                       content_token\n",
       "0  책임감,기술,서비스,개발,집중,신뢰,안전,생태계,구축,협력,카카오,글로벌,오픈,소스...\n",
       "1  과학기술,정보통신부,한국,지능,정보사회,진흥,데이터,플래그,사업,과,데이터,활용,기...\n",
       "2  막스,플랑크,연구,회,글로벌,과학,리더,포럼,공동,개최,과,정통부,제공,서울,뉴스,...\n",
       "3  달,개최,화성,탐사,체험,등,계,프로그램,마련,국립과천과학관,제공,서울,뉴스,윤주영...\n",
       "4  이동수,네이버,클라우드,이사,인텔,칩,성능,가격,매력,엔비디아,독주,칩,시장,인텔,...\n",
       "5  국내,게임,최초,게임,어워즈,수상,넥슨,제공,뉴스,서울,뉴스,김승준,기자,넥슨,영국...\n",
       "6  미생물,식품,생산,활용,여러,지속,원료,및,활용,미생물,바이오매스,생산,전략,제공,...\n",
       "7  어도비,마이크로소프트,파트너,체결,발표,새,파트너,양사,어도비,익스,피리,언스,클라..."
      ]
     },
     "execution_count": 34,
     "metadata": {},
     "output_type": "execute_result"
    }
   ],
   "source": [
    "df[['content_token']]"
   ]
  },
  {
   "cell_type": "markdown",
   "id": "71294fd0-84ac-428b-94b9-5319b13f03e7",
   "metadata": {},
   "source": [
    "### WordCloud"
   ]
  },
  {
   "cell_type": "code",
   "execution_count": null,
   "id": "26f895c4-56fe-4148-a6d7-044747e65727",
   "metadata": {},
   "outputs": [],
   "source": [
    "from wordcloud import WordCloud"
   ]
  },
  {
   "cell_type": "code",
   "execution_count": 38,
   "id": "95cce6ac-313a-4ebd-bd0d-40c7c2b76b76",
   "metadata": {},
   "outputs": [],
   "source": [
    "news_words=np.concatenate(df['content_token'].str.split(',').apply(np.array).tolist())"
   ]
  },
  {
   "cell_type": "code",
   "execution_count": 39,
   "id": "36d67612-5d05-4a96-a247-de98ad3aabfc",
   "metadata": {},
   "outputs": [
    {
     "data": {
      "text/plain": [
       "1727"
      ]
     },
     "execution_count": 39,
     "metadata": {},
     "output_type": "execute_result"
    }
   ],
   "source": [
    "len(news_words)"
   ]
  },
  {
   "cell_type": "code",
   "execution_count": 40,
   "id": "ec3fba10-c669-4fc5-af78-d99b58671089",
   "metadata": {},
   "outputs": [
    {
     "name": "stdout",
     "output_type": "stream",
     "text": [
      "Counter({'등': 32, '수': 26, '및': 22, '미생물': 22, '인텔': 21, '데이터': 21, '마이크로소프트': 17, '식품': 17, '네이버': 16, '어도비': 15, '활용': 14, '생산': 14, '협력': 13, '클라우드': 12, '것': 11, '통해': 11, '사업': 11, '연구': 10, '를': 10, '가우디': 10, '지원': 9, '고': 9, '더': 9, '게임': 9, '마케터': 9, '서비스': 8, '개발': 8, '글로벌': 8, '위해': 8, '지속': 8, '제공': 8, '업무': 8, '인사이트': 8, '애플리케이션': 8, '캠페인': 8, '지능': 7, '한국': 7, '기획': 7, '기반': 7, '공동': 7, '마케팅': 7, '카카오': 6, '국내': 6, '인공': 6, '여러': 6, '말': 6, '과': 6, '검증': 6, '과제': 6, '서울': 6, '뉴스': 6, '센터': 6, '이': 6, '칩': 6, '엔비디아': 6, '시장': 6, '원료': 6, '바이오매스': 6, '각종': 6, '단백질': 6, '용': 6, '코': 6, '파일럿': 6, '기술': 5, '얼라이언스': 5, '가입': 5, '기자': 5, '기업': 5, '분야': 5, '의': 5, '데': 5, '프로젝트': 5, '리더': 5, '사회': 5, '플래그': 5, '해결': 5, '확인': 5, '효율': 5, '기초과학': 5, '양': 5, '역량': 5, '과정': 5, '이동수': 5, '이사': 5, '며': 5, '데이브': 5, '교수': 5, '익스': 5, '피리': 5, '언스': 5, '안전': 4, '생태계': 4, '구축': 4, '오픈': 4, '혁신': 4, '목표': 4, '계획': 4, '교육': 4, '이번': 4, '또': 4, '예정': 4, '디지털': 4, '과학기술': 4, '개': 4, '정통부': 4, '개요': 4, '회': 4, '개최': 4, '전략': 4, '프로그램': 4, '전시': 4, '빛': 4, '작업': 4, '최신': 4, '경험': 4, '어워즈': 4, '다이버': 4, '파트너': 4, '워크플로우': 4, '관리': 4, '통합': 4, '다이나믹스': 4, '신뢰': 3, '최초': 3, '메타': 3, '산업': 3, '스타트업': 3, '조직': 3, '단체': 3, '전반': 3, '활동': 3, '비롯': 3, '표준': 3, '추진': 3, '진행': 3, '은': 3, '선도': 3, '위': 3, '발굴': 3, '막스': 3, '플랑크': 3, '독일': 3, '행사': 3, '인류': 3, '달': 3, '화성': 3, '체험': 3, '국립과천과학관': 3, '보이지': 3, '우주': 3, '관측': 3, '부': 3, '세계': 3, '성능': 3, '반도체': 3, '하이퍼': 3, '미디어': 3, '공급': 3, '전력': 3, '측면': 3, '아시아': 3, '양사': 3, '모델': 3, '테스트': 3, '강조': 3, '부사': 3, '넥슨': 3, '부문': 3, '결과': 3, '제시': 3, '최경록': 3, '이상엽': 3, '이용': 3, '가장': 3, '우리': 3, '화합물': 3, '배양': 3, '또한': 3, '발표': 3, '일상': 3, '팀': 3, '워드': 3, '툴': 3, '작성': 3, '콘텐츠': 3, '제작': 3, '승인': 3, '파악': 3, '책임감': 2, '집중': 2, '소스': 2, '커뮤니티': 2, '학계': 2, '개방': 2, '지난해': 2, '확장': 2, '개선': 2, '구성': 2, '현재': 2, '노력': 2, '정책': 2, '최근': 2, '라며': 2, '정보통신부': 2, '공모': 2, '총': 2, '예산': 2, '대응': 2, '주제': 2, '융합': 2, '현안': 2, '대한': 2, '사례': 2, '관련': 2, '경쟁력': 2, '향후': 2, '홈페이지': 2, '관': 2, '전환': 2, '과학': 2, '포럼': 2, '윤주영': 2, '기관': 2, '방안': 2, '설립': 2, '배출': 2, '참석': 2, '제': 2, '유럽': 2, '증진': 2, '탐사': 2, '마련': 2, '설명': 2, '블랙홀': 2, '성과': 2, '준비': 2, '가격': 2, '독주': 2, '반격': 2, '소프트웨어': 2, '스케일': 2, '담당': 2, '타워': 2, '간담': 2, '권세': 2, '자신': 2, '태평양': 2, '지역': 2, '업체': 2, '입지': 2, '고객': 2, '확대': 2, '방침': 2, '미국': 2, '지난': 2, '배': 2, '실행': 2, '출시': 2, '도입': 2, '실제': 2, '전': 2, '적용': 2, '한편': 2, '생': 2, '전망': 2, '영국': 2, '디자인': 2, '중': 2, '초기': 2, '구진': 2, '식량': 2, '생물': 2, '공정연': 2, '로부터': 2, '단위': 2, '질량': 2, '함량': 2, '비교': 2, '주변': 2, '접': 2, '발효식품': 2, '내': 2, '영양학': 2, '가치': 2, '함': 2, '예': 2, '추출': 2, '사용': 2, '해당': 2, '대중화': 2, '머': 2, '특훈': 2, '더욱': 2, '부서': 2, '장벽': 2, '아웃룩': 2, '외부': 2, '채널': 2, '타깃': 2, '전문': 2, '협업': 2, '워크프론트': 2, '업데이트': 2, '상황': 2, '사항': 2, '후속': 2, '조치': 2, '사이트': 2, '모바일': 2, '변경': 2, '기능': 2, '마케터들': 2, '간소화': 2, '데일리안': 1, '이주은': 1, '포함': 1, '정부': 1, '사이언스': 1, '출범': 1, '환경': 1, '보안': 1, '중점': 1, '배포': 1, '거버넌스': 1, '약': 1, '여': 1, '곳': 1, '발': 1, '수립': 1, '기준': 1, '반영': 1, '적극': 1, '목소리': 1, '낼': 1, '신설': 1, '최고': 1, '책임자': 1, '주도': 1, '도모': 1, '김경훈': 1, '세이': 1, '프티': 1, '수준': 1, '상호': 1, '책임': 1, '다': 1, '윤리': 1, '정보사회': 1, '진흥': 1, '규모': 1, '기후': 1, '위기': 1, '날로': 1, '심화': 1, '이상기후': 1, '현상': 1, '탄소': 1, '중립': 1, '국제': 1, '규범': 1, '경제': 1, '문제점': 1, '동형': 1, '암호': 1, '합성': 1, '연합학습': 1, '성공': 1, '창': 1, '강화': 1, '안내': 1, '접수': 1, '방법': 1, '엄열': 1, '선제': 1, '학술': 1, '교류': 1, '인재': 1, '양성': 1, '발전': 1, '서대문구': 1, '연세대': 1, '연구원': 1, '논의': 1, '자리': 1, '뮌헨': 1, '본부': 1, '연구기관': 1, '지금': 1, '명의': 1, '노벨상': 1, '수상자': 1, '연구시설': 1, '신진': 1, '연구자': 1, '육성': 1, '나노': 1, '의학': 1, '허브': 1, '협약': 1, '도': 1, '현장': 1, '이창윤': 1, '차관': 1, '호': 1, '즌': 1, '양국': 1, '난제': 1, '계': 1, '기획전': 1, '연다': 1, '탐구': 1, '점': 1, '극복': 1, '종류': 1, '주요': 1, '망원경': 1, '암흑물질': 1, '소개': 1, '미지': 1, '향': 1, '도전': 1, '개척': 1, '공유': 1, '계해': 1, '천체투영관': 1, '강연': 1, '회도': 1, '린다': 1, '기지': 1, '모형': 1, '로버': 1, '미션': 1, '수행': 1, '코딩': 1, '사전': 1, '예약': 1, '외계행성': 1, '장비': 1, '코로나': 1, '그래프': 1, '종이접기': 1, '과학관': 1, '전파망원경': 1, '내용': 1, '매력': 1, '개시': 1, '플랫폼': 1, '영등포구': 1, '화상': 1, '참가': 1, '대학교': 1, '연합': 1, '사진': 1, '연합뉴스': 1, '직접': 1, '설계': 1, '제조': 1, '몸집': 1, '그래픽': 1, '처리장치': 1, '우위': 1, '분기점': 1, '포부': 1, '만큼': 1, '바탕': 1, '여의도': 1, '루비': 1, '홀': 1, '자체': 1, '애리조나주': 1, '피닉스': 1, '이틀': 1, '컨퍼런스': 1, '공개': 1, '이상': 1, '페이스북': 1, '모회사': 1, '라마': 1, '아랍에미리트': 1, '오픈소스': 1, '대규모': 1, '언어': 1, '팔콘': 1, '서버': 1, '델': 1, '슈퍼': 1, '마이크로': 1, '시스템': 1, '차세대': 1, '인프라': 1, '폭': 1, '하정우': 1, '이노베이션': 1, '날': 1, '백': 1, '코리아': 1, '대체': 1, '대안': 1, '공통': 1, '사실': 1, '프로': 1, '바이': 1, '로서': 1, '크기': 1, '때문': 1, '초석': 1, '대비': 1, '부분': 1, '비용': 1, '판단': 1, '운영': 1, '차별': 1, '도움': 1, '바': 1, '뒤': 1, '여부': 1, '정': 1, '성형': 1, '장악': 1, '대항': 1, '경쟁': 1, '한층': 1, '역시': 1, '오라클': 1, '수상': 1, '김승준': 1, '런던': 1, '영화': 1, '텔레비전': 1, '예술': 1, '아카데미': 1, '매년': 1, '주최': 1, '시상식': 1, '다이브': 1, '역대': 1, '수상작': 1, '측은': 1, '싱글': 1, '패키지': 1, '누적': 1, '판매': 1, '장': 1, '돌파': 1, '하이브리드': 1, '해양': 1, '어드벤처': 1, '황재호': 1, '디렉터': 1, '콘셉트': 1, '그': 1, '재미': 1, '전달': 1, '생각': 1, '유저': 1, '기쁨': 1, '감사': 1, '의미': 1, '전하': 1, '대전': 1, '김태진': 1, '미래': 1, '과학기술원': 1, '생명': 1, '화학공학': 1, '특훈교수': 1, '방향': 1, '건조': 1, '육류': 1, '비견': 1, '정도': 1, '함유': 1, '가축': 1, '어패류': 1, '농작물': 1, '이산화탄소': 1, '필요': 1, '물의': 1, '토지': 1, '면적': 1, '친환경': 1, '영양': 1, '자원': 1, '꼽': 1, '차지': 1, '비중': 1, '적지': 1, '발효': 1, '탄수화물': 1, '소비': 1, '증식': 1, '비타민': 1, '영양소': 1, '액': 1, '분리': 1, '정제': 1, '갈래': 1, '글루탐산': 1, '나트륨': 1, '아미노산': 1, '효소': 1, '색소': 1, '생리': 1, '활': 1, '물질': 1, '궁극': 1, '근본': 1, '태의': 1, '물': 1, '조리': 1, '이로': 1, '총칭': 1, '단세포': 1, '대표': 1, '방식': 1, '비': 1, '식용': 1, '망라': 1, '해': 1, '특징': 1, '저자': 1, '식탁': 1, '교신저자': 1, '후손': 1, '산': 1, '학': 1, '민': 1, '때': 1, '네이처': 1, '미생물학': 1, '온라인': 1, '게재': 1, '체결': 1, '새': 1, '해소': 1, '크리에이티브': 1, '시': 1, '브랜드': 1, '추적': 1, '보고': 1, '어려움': 1, '속도': 1, '혼선': 1, '부정': 1, '영향': 1, '조사': 1, '커뮤니케이션': 1, '전문가': 1, '간의': 1, '창의성': 1, '저해': 1, '답': 1, '문제': 1, '상태': 1, '요구사항': 1, '초점': 1, '커스터': 1, '저니': 1, '애': 1, '널리': 1, '스': 1, '결합': 1, '효과': 1, '정의': 1, '인력': 1, '의존': 1, '임원': 1, '자료': 1, '보고서': 1, '매니저': 1, '파이어플라이': 1, '이미지': 1, '거나': 1, '카피': 1, '웹': 1, '바로': 1, '게시': 1, '수도': 1, '피드백': 1, '항목': 1, '마감': 1, '일': 1, '이메일': 1, '채팅': 1, '알림': 1, '성해': 1, '미트': 1, '후자': 1, '소셜': 1, '변화': 1, '개인화': 1, '수요': 1, '급증': 1, '매일': 1, '시간': 1, '독보': 1, '제라드': 1, '스파타': 1, '앳워크': 1, '영향력': 1, '향상': 1, '가지': 1, '맥락': 1, '별': 1, '도록': 1})\n"
     ]
    }
   ],
   "source": [
    "from collections import Counter\n",
    "counts = Counter(news_words)\n",
    "print(counts)"
   ]
  },
  {
   "cell_type": "markdown",
   "id": "20c151cf-16fe-4228-9d2c-89295c6a7637",
   "metadata": {},
   "source": [
    "### 도시이름 잘 검색되는지 한번에 확인하고 싶을때 부록"
   ]
  },
  {
   "cell_type": "code",
   "execution_count": null,
   "id": "7549de0c-eb5c-4eee-9d48-2ca54b4c55f2",
   "metadata": {},
   "outputs": [],
   "source": [
    "# 한번에 확인하고 싶을때\n",
    "citys=['뉴욕','런던','파리','도쿄','베이징','홍콩','로스앤젤레스','시카고','싱가포르','워싱턴DC']\n",
    "for city in citys:\n",
    "    driver.get(url)\n",
    "    time.sleep(1)\n",
    "    driver.find_element(By.XPATH,'//*[@id=\"MM_SEARCH_FAKE\"]').click()\n",
    "    driver.find_element(By.XPATH,'//*[@id=\"query\"]').send_keys(f'{city} 날씨')\n",
    "    driver.find_element(By.XPATH,'//*[@id=\"sch_w\"]/div/form/button').click()\n",
    "    time.sleep(1)\n",
    "    print(city)\n",
    "    \n",
    "    # 글로벌 도시 날씨\n",
    "    weather = driver.find_element(By.XPATH,'//*[@id=\"ct\"]/section[1]/div/div[2]/div/div/div[1]/div[1]/div/div[2]/div/div[1]/div[2]').text\n",
    "    weather=weather.split('\\n') \n",
    "    temperature=\" \".join(weather[0:2])\n",
    "    sky=weather[2]\n",
    "    feel_temperature=weather[3]\n",
    "    print(temperature, sky, feel_temperature)\n",
    "\n",
    "    # 글로벌 도시 현지시각\n",
    "    city_time=driver.find_element(By.XPATH,'//*[@id=\"ct\"]/section[1]/div/div[2]/div/div/div[1]/div[1]/div/div[2]/div/div[2]/dl[1]/dd[1]').text\n",
    "    print(city_time)"
   ]
  }
 ],
 "metadata": {
  "kernelspec": {
   "display_name": "upstage_assignment_1",
   "language": "python",
   "name": "upstage_assignment_1"
  },
  "language_info": {
   "codemirror_mode": {
    "name": "ipython",
    "version": 3
   },
   "file_extension": ".py",
   "mimetype": "text/x-python",
   "name": "python",
   "nbconvert_exporter": "python",
   "pygments_lexer": "ipython3",
   "version": "3.11.8"
  }
 },
 "nbformat": 4,
 "nbformat_minor": 5
}
