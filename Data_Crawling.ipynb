{
 "cells": [
  {
   "cell_type": "markdown",
   "id": "a9202465-94c7-42ad-9e87-48dd51aa0ae8",
   "metadata": {},
   "source": [
    "### 글로벌 도시 현재시간 & 날씨 crawling"
   ]
  },
  {
   "cell_type": "code",
   "execution_count": 38,
   "id": "49f454d7-4c83-49e2-b975-b674ec51dbe5",
   "metadata": {},
   "outputs": [],
   "source": [
    "import time\n",
    "import csv\n",
    "import pandas as pd\n",
    "\n",
    "import warnings\n",
    "warnings.filterwarnings('ignore')"
   ]
  },
  {
   "cell_type": "code",
   "execution_count": 53,
   "id": "2659eb31-825b-40b7-b9d3-c7d80c7397e6",
   "metadata": {},
   "outputs": [],
   "source": [
    "# driver 설정\n",
    "from selenium import webdriver \n",
    "from selenium.webdriver.common.by import By\n",
    "        \n",
    "# chrome driver\n",
    "driver = webdriver.Chrome()"
   ]
  },
  {
   "cell_type": "code",
   "execution_count": 79,
   "id": "dded540a-45a5-445a-9c6a-174405c37cc5",
   "metadata": {},
   "outputs": [],
   "source": [
    "url='https://m.naver.com/'\n",
    "driver.get(url)\n",
    "time.sleep(1)"
   ]
  },
  {
   "cell_type": "markdown",
   "id": "824a8152-90ff-43fd-b764-ea38e2b188d3",
   "metadata": {},
   "source": [
    "### 웹사이트에서 도시 검색"
   ]
  },
  {
   "cell_type": "markdown",
   "id": "c7fe48e2-5573-43b0-9ba0-66ecad5100eb",
   "metadata": {},
   "source": [
    "뉴욕 - 런던 - 파리 - 도쿄 - 베이징 - 홍콩 - 로스앤젤레스 - 시카고 - 싱가포르(->싱가포르) - 워싱턴 D.C(->워싱턴)."
   ]
  },
  {
   "cell_type": "code",
   "execution_count": 81,
   "id": "7549de0c-eb5c-4eee-9d48-2ca54b4c55f2",
   "metadata": {},
   "outputs": [
    {
     "name": "stdout",
     "output_type": "stream",
     "text": [
      "뉴욕\n",
      "현재 온도 11° 흐림 체감온도 11°\n",
      "4.11. 01:46\n",
      "런던\n",
      "현재 온도 13° 흐림 체감온도 9°\n",
      "4.11. 06:46\n",
      "파리\n",
      "현재 온도 12° 흐림 체감온도 12°\n",
      "4.11. 07:46\n",
      "도쿄\n",
      "현재 온도 18° 맑음(낮) 체감온도 17°\n",
      "4.11. 15:46\n",
      "베이징\n",
      "현재 온도 20° 화창 체감온도 24°\n",
      "4.11. 14:47\n",
      "홍콩\n",
      "현재 온도 27° 화창 체감온도 31°\n",
      "4.11. 14:47\n",
      "로스앤젤레스\n",
      "현재 온도 17° 대체로 맑음 체감온도 17°\n",
      "4.10. 22:47\n",
      "시카고\n",
      "현재 온도 12° 흐림 체감온도 13°\n",
      "4.11. 00:47\n",
      "싱가포르\n",
      "현재 온도 32° 흐림 체감온도 38°\n",
      "4.11. 14:47\n",
      "워싱턴DC\n",
      "현재 온도 19° 흐림 체감온도 18°\n",
      "4.11. 01:47\n"
     ]
    }
   ],
   "source": [
    "# 한번에 확인하고 싶을때\n",
    "citys=['뉴욕','런던','파리','도쿄','베이징','홍콩','로스앤젤레스','시카고','싱가포르','워싱턴DC']\n",
    "for city in citys:\n",
    "    driver.get(url)\n",
    "    time.sleep(1)\n",
    "    driver.find_element(By.XPATH,'//*[@id=\"MM_SEARCH_FAKE\"]').click()\n",
    "    driver.find_element(By.XPATH,'//*[@id=\"query\"]').send_keys(f'{city} 날씨')\n",
    "    driver.find_element(By.XPATH,'//*[@id=\"sch_w\"]/div/form/button').click()\n",
    "    time.sleep(1)\n",
    "    print(city)\n",
    "    \n",
    "    # 글로벌 도시 날씨\n",
    "    weather = driver.find_element(By.XPATH,'//*[@id=\"ct\"]/section[1]/div/div[2]/div/div/div[1]/div[1]/div/div[2]/div/div[1]/div[2]').text\n",
    "    weather=weather.split('\\n') \n",
    "    temperature=\" \".join(weather[0:2])\n",
    "    sky=weather[2]\n",
    "    feel_temperature=weather[3]\n",
    "    print(temperature, sky, feel_temperature)\n",
    "\n",
    "    # 글로벌 도시 현지시각\n",
    "    city_time=driver.find_element(By.XPATH,'//*[@id=\"ct\"]/section[1]/div/div[2]/div/div/div[1]/div[1]/div/div[2]/div/div[2]/dl[1]/dd[1]').text\n",
    "    print(city_time)"
   ]
  },
  {
   "cell_type": "code",
   "execution_count": 55,
   "id": "84d3c79b-b29a-4685-bc04-91bccf3c6fe9",
   "metadata": {},
   "outputs": [],
   "source": [
    "# 도시 검색\n",
    "city='런던'\n",
    "driver.find_element(By.XPATH,'//*[@id=\"MM_SEARCH_FAKE\"]').click()\n",
    "driver.find_element(By.XPATH,'//*[@id=\"query\"]').send_keys(f'{city} 날씨')\n",
    "driver.find_element(By.XPATH,'//*[@id=\"sch_w\"]/div/form/button').click()\n",
    "time.sleep(1)"
   ]
  },
  {
   "cell_type": "code",
   "execution_count": 63,
   "id": "5fc8b59d-cd04-4f17-b05f-f7683a36f4a2",
   "metadata": {},
   "outputs": [
    {
     "name": "stdout",
     "output_type": "stream",
     "text": [
      "현재 온도 11° 흐림 체감온도 11°\n"
     ]
    }
   ],
   "source": [
    "# 글로벌 도시 날씨\n",
    "weather = driver.find_element(By.XPATH,'//*[@id=\"ct\"]/section[1]/div/div[2]/div/div/div[1]/div[1]/div/div[2]/div/div[1]/div[2]').text\n",
    "weather=weather.split('\\n') \n",
    "temperature=\" \".join(weather[0:2])\n",
    "sky=weather[2]\n",
    "feel_temperature=weather[3]\n",
    "print(temperature, sky, feel_temperature)"
   ]
  },
  {
   "cell_type": "code",
   "execution_count": 64,
   "id": "ccfc9a67-2675-4295-8f9a-9f88723b5061",
   "metadata": {},
   "outputs": [
    {
     "data": {
      "text/plain": [
       "'4.11. 01:24'"
      ]
     },
     "execution_count": 64,
     "metadata": {},
     "output_type": "execute_result"
    }
   ],
   "source": [
    "# 글로벌 도시 현지시각\n",
    "city_time=driver.find_element(By.XPATH,'//*[@id=\"ct\"]/section[1]/div/div[2]/div/div/div[1]/div[1]/div/div[2]/div/div[2]/dl[1]/dd[1]').text\n",
    "city_time"
   ]
  },
  {
   "cell_type": "markdown",
   "id": "e843d63f-17b5-4a66-bbbe-41215596665d",
   "metadata": {},
   "source": [
    "### IT뉴스(오전 9:30수집)"
   ]
  },
  {
   "cell_type": "code",
   "execution_count": null,
   "id": "d9f6a489-5858-4f99-8c48-dc02a20d59bb",
   "metadata": {},
   "outputs": [],
   "source": [
    "url='https://news.naver.com/section/105'\n",
    "driver.get(url)\n",
    "time.sleep(1)"
   ]
  }
 ],
 "metadata": {
  "kernelspec": {
   "display_name": "upstage_assignment_1",
   "language": "python",
   "name": "upstage_assignment_1"
  },
  "language_info": {
   "codemirror_mode": {
    "name": "ipython",
    "version": 3
   },
   "file_extension": ".py",
   "mimetype": "text/x-python",
   "name": "python",
   "nbconvert_exporter": "python",
   "pygments_lexer": "ipython3",
   "version": "3.11.8"
  }
 },
 "nbformat": 4,
 "nbformat_minor": 5
}
