{
 "cells": [
  {
   "cell_type": "markdown",
   "id": "a9202465-94c7-42ad-9e87-48dd51aa0ae8",
   "metadata": {},
   "source": [
    "### 글로벌 도시 현재시간 & 날씨 crawling"
   ]
  },
  {
   "cell_type": "code",
   "execution_count": 1,
   "id": "49f454d7-4c83-49e2-b975-b674ec51dbe5",
   "metadata": {},
   "outputs": [],
   "source": [
    "import time\n",
    "import csv\n",
    "import pandas as pd\n",
    "\n",
    "import warnings\n",
    "warnings.filterwarnings('ignore')"
   ]
  },
  {
   "cell_type": "code",
   "execution_count": 2,
   "id": "2659eb31-825b-40b7-b9d3-c7d80c7397e6",
   "metadata": {},
   "outputs": [],
   "source": [
    "# driver 설정\n",
    "from selenium import webdriver \n",
    "from selenium.webdriver.common.by import By\n",
    "        \n",
    "# chrome driver\n",
    "driver = webdriver.Chrome()"
   ]
  },
  {
   "cell_type": "code",
   "execution_count": 3,
   "id": "dded540a-45a5-445a-9c6a-174405c37cc5",
   "metadata": {},
   "outputs": [],
   "source": [
    "# url='https://www.accuweather.com/'\n",
    "\n",
    "# driver.get(url)\n",
    "# time.sleep(1.5)\n",
    "# browser.find_element(By.CLASS_NAME, 'search_input').click()\n",
    "# browser.find_element(By.CLASS_NAME, 'search_input').send_keys('날씨')\n",
    "# browser.find_element(By.CLASS_NAME, 'btn_search').click()"
   ]
  },
  {
   "cell_type": "code",
   "execution_count": null,
   "id": "4b5e86ac-0b13-4b28-977b-f885c6f6d71b",
   "metadata": {},
   "outputs": [],
   "source": [
    "# # 체감, 습도, 풍향\n",
    "# data = browser.find_element(By.CLASS_NAME, 'summary_list').text\n",
    "# data.split(\" \")"
   ]
  }
 ],
 "metadata": {
  "kernelspec": {
   "display_name": "upstage_assignment_1",
   "language": "python",
   "name": "upstage_assignment_1"
  },
  "language_info": {
   "codemirror_mode": {
    "name": "ipython",
    "version": 3
   },
   "file_extension": ".py",
   "mimetype": "text/x-python",
   "name": "python",
   "nbconvert_exporter": "python",
   "pygments_lexer": "ipython3",
   "version": "3.11.8"
  }
 },
 "nbformat": 4,
 "nbformat_minor": 5
}
