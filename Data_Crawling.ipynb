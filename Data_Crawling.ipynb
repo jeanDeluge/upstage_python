{
 "cells": [
  {
   "cell_type": "markdown",
   "id": "a9202465-94c7-42ad-9e87-48dd51aa0ae8",
   "metadata": {},
   "source": [
    "### 글로벌 도시 현재시간 & 날씨 crawling"
   ]
  },
  {
   "cell_type": "code",
   "execution_count": 12,
   "id": "49f454d7-4c83-49e2-b975-b674ec51dbe5",
   "metadata": {},
   "outputs": [],
   "source": [
    "import time\n",
    "import csv\n",
    "import pandas as pd\n",
    "import schedule\n",
    "\n",
    "import warnings\n",
    "warnings.filterwarnings('ignore')"
   ]
  },
  {
   "cell_type": "code",
   "execution_count": 16,
   "id": "2659eb31-825b-40b7-b9d3-c7d80c7397e6",
   "metadata": {},
   "outputs": [],
   "source": [
    "# driver 설정\n",
    "from selenium import webdriver \n",
    "from selenium.webdriver.common.by import By\n",
    "        \n",
    "# chrome driver\n",
    "driver = webdriver.Chrome()"
   ]
  },
  {
   "cell_type": "markdown",
   "id": "8396a159-8e60-4d99-b056-c789a84bc77c",
   "metadata": {},
   "source": [
    "### IT뉴스(오전 9:30수집)"
   ]
  },
  {
   "cell_type": "code",
   "execution_count": 17,
   "id": "032bfa06-8a51-4a92-9d27-6749e5a52a1b",
   "metadata": {},
   "outputs": [],
   "source": [
    "def crawling_news():\n",
    "    url='https://news.naver.com/section/105'\n",
    "    driver.get(url)\n",
    "    time.sleep(1)\n",
    "    \n",
    "    driver.find_element(By.XPATH,'//*[@id=\"newsct\"]/div[1]/div[2]/a').click()\n",
    "    time.sleep(0.3)\n",
    "    \n",
    "    # 뉴스 기사가 몇개 잇는지\n",
    "    news_list=driver.find_elements(By.CLASS_NAME,'sa_item._SECTION_HEADLINE')\n",
    "    \n",
    "    # csv저장을 위한 dataframe 생성\n",
    "    df = pd.DataFrame(columns=['title','company','content','link'])\n",
    "    cnt=0\n",
    "    \n",
    "    for news in news_list:\n",
    "        title = news.find_element(By.CLASS_NAME, 'sa_text_strong').text #뉴스제목\n",
    "        company = news.find_element(By.CLASS_NAME, 'sa_text_press').text #언론사\n",
    "        content = news.find_element(By.CLASS_NAME, 'sa_text_lede').text #내용\n",
    "        link = news.find_element(By.CLASS_NAME, 'sa_text_title').get_attribute('href') #작성일\n",
    "        df.loc[cnt] = [title,company,content,link]\n",
    "        cnt+=1\n",
    "        \n",
    "        print(title,company,content,link)\n",
    "    \n",
    "    # dataframe를 csv로 저장\n",
    "    df.to_csv(\"news.csv\", encoding='utf-8-sig',index=False)"
   ]
  },
  {
   "cell_type": "code",
   "execution_count": 22,
   "id": "e8155fc2-34e3-44a7-9767-a1b7342267fa",
   "metadata": {},
   "outputs": [
    {
     "name": "stdout",
     "output_type": "stream",
     "text": [
      "마브렉스, 국내 가상자산거래소 ‘코빗’ 상장 이데일리 블록체인 전문회사 마브렉스(MARBLEX)는 국내 가상자산거래소 코빗에 ‘MBX’ 토큰을 상장했다고 11일 밝혔다. 이용자들은 한국 시간 기준 11일 12시부터 코빗에서 입금을 진행할 수 있다. 17시부터는 MBX https://n.news.naver.com/mnews/article/018/0005712240\n",
      "카카오헬스케어, ‘구글 클라우드 넥스트’ 초청…협력 논의 뉴시스 카카오헬스케어는 이달 9일에서 11일 (현지시각 기준) 미국 라스베가스에서 진행되고 있는 ‘구글 클라우드 넥스트 2024’에서 초청받아 다양한 글로벌 기업들과 사업 협력을 논의했다고 11일 밝혔다. 구글 클라우드가 https://n.news.naver.com/mnews/article/003/0012485664\n",
      "인텔, \"엔비디아 H100 너무 비싸다\"…대항마 '가우디3' 공개 뉴시스 미국 반도체 기업인 인텔이 엔비디아가 장악 중인 AI(인공지능) 반도체 시장에 본격적인 진출을 선언했다. 국내에서도 네이버와 협력을 맺고 공동 연구와 거대언어모델(LLM) 학습 인프라 구축도 추진하기로 했다. 인텔은 https://n.news.naver.com/mnews/article/003/0012485679\n",
      "스페이스린텍, 40억원 규모 '시리즈 A' 투자 유치 한국경제 스페이스린텍은 최근 컴퍼니케이파트너스와 우리벤처파트너스로부터 총 40억원의 ‘시리즈 A’ 투자를 유치했다고 11일 밝혔다. 스페이스린텍은 미국 버지니아 노폭주립대학교 정교수이자 하버드 의대 객원교수인 윤학순 대표가 https://n.news.naver.com/mnews/article/015/0004971568\n",
      "“AI의 유해성 찾는다”…'생성형 AI 레드팀 챌린지'에 1000여명 참여 전자신문 생성형 인공지능(AI) 서비스를 위한 거대언어모델(LLM)의 안전성을 시험하는 대국민 행사에 학생·직장인·교사 등 1000여명이 도전해 AI와 창과 방패의 대결을 벌였다. 과학기술정보통신부와 한국정보통신기술협회(TT https://n.news.naver.com/mnews/article/030/0003197185\n",
      "AI는 ‘효율 싸움'… 구글·인텔, 전성비 높인 반도체 공세 서울경제 구글과 인텔이 효율성에 초점을 맞춘 인공지능(AI) 칩셋을 나란히 공개했다. 거대언어모델(LLM) 개발과 고도화에 막대한 전력이 필요한 만큼 효율이 높은 AI 칩 도입으로 비용을 절감할뿐 아니라 지속 가능한 AI 개 https://n.news.naver.com/mnews/article/011/0004325966\n",
      "넥슨 통 큰 실험 …\"손해나도 괜찮아\" 매일경제 100억원 미만 게임개발 땐 수익성과 지표 안 보기로 창의성·다양성 적극 장려 넥슨이 '제2의 데이브 더 다이브'를 발굴하기 위해 결과적으로 수익이 나지 않더라도 평가에 반영하지 않는 등 파격적인 게임 개발 조건을 https://n.news.naver.com/mnews/article/009/0005286227\n",
      "금융 마이데이터 등에 암호화한 주민번호 일괄 변환 허용 연합뉴스 방송통신위원회는 온라인에서 연계정보를 활용한 국민 편의 서비스를 안정적으로 운영할 수 있도록 모바일 전자고지와 금융 마이데이터 등 서비스 범위와 관리 기준을 규정한 정보통신망법 시행령 개정안을 마련했다고 11일 밝혔 https://n.news.naver.com/mnews/article/001/0014626459\n",
      "마브렉스, 국내 가상자산거래소 ‘코빗’ 상장 이데일리 블록체인 전문회사 마브렉스(MARBLEX)는 국내 가상자산거래소 코빗에 ‘MBX’ 토큰을 상장했다고 11일 밝혔다. 이용자들은 한국 시간 기준 11일 12시부터 코빗에서 입금을 진행할 수 있다. 17시부터는 MBX https://n.news.naver.com/mnews/article/018/0005712240\n",
      "카카오헬스케어, ‘구글 클라우드 넥스트’ 초청…협력 논의 뉴시스 카카오헬스케어는 이달 9일에서 11일 (현지시각 기준) 미국 라스베가스에서 진행되고 있는 ‘구글 클라우드 넥스트 2024’에서 초청받아 다양한 글로벌 기업들과 사업 협력을 논의했다고 11일 밝혔다. 구글 클라우드가 https://n.news.naver.com/mnews/article/003/0012485664\n",
      "인텔, \"엔비디아 H100 너무 비싸다\"…대항마 '가우디3' 공개 뉴시스 미국 반도체 기업인 인텔이 엔비디아가 장악 중인 AI(인공지능) 반도체 시장에 본격적인 진출을 선언했다. 국내에서도 네이버와 협력을 맺고 공동 연구와 거대언어모델(LLM) 학습 인프라 구축도 추진하기로 했다. 인텔은 https://n.news.naver.com/mnews/article/003/0012485679\n",
      "스페이스린텍, 40억원 규모 '시리즈 A' 투자 유치 한국경제 스페이스린텍은 최근 컴퍼니케이파트너스와 우리벤처파트너스로부터 총 40억원의 ‘시리즈 A’ 투자를 유치했다고 11일 밝혔다. 스페이스린텍은 미국 버지니아 노폭주립대학교 정교수이자 하버드 의대 객원교수인 윤학순 대표가 https://n.news.naver.com/mnews/article/015/0004971568\n",
      "“AI의 유해성 찾는다”…'생성형 AI 레드팀 챌린지'에 1000여명 참여 전자신문 생성형 인공지능(AI) 서비스를 위한 거대언어모델(LLM)의 안전성을 시험하는 대국민 행사에 학생·직장인·교사 등 1000여명이 도전해 AI와 창과 방패의 대결을 벌였다. 과학기술정보통신부와 한국정보통신기술협회(TT https://n.news.naver.com/mnews/article/030/0003197185\n",
      "AI는 ‘효율 싸움'… 구글·인텔, 전성비 높인 반도체 공세 서울경제 구글과 인텔이 효율성에 초점을 맞춘 인공지능(AI) 칩셋을 나란히 공개했다. 거대언어모델(LLM) 개발과 고도화에 막대한 전력이 필요한 만큼 효율이 높은 AI 칩 도입으로 비용을 절감할뿐 아니라 지속 가능한 AI 개 https://n.news.naver.com/mnews/article/011/0004325966\n",
      "넥슨 통 큰 실험 …\"손해나도 괜찮아\" 매일경제 100억원 미만 게임개발 땐 수익성과 지표 안 보기로 창의성·다양성 적극 장려 넥슨이 '제2의 데이브 더 다이브'를 발굴하기 위해 결과적으로 수익이 나지 않더라도 평가에 반영하지 않는 등 파격적인 게임 개발 조건을 https://n.news.naver.com/mnews/article/009/0005286227\n",
      "금융 마이데이터 등에 암호화한 주민번호 일괄 변환 허용 연합뉴스 방송통신위원회는 온라인에서 연계정보를 활용한 국민 편의 서비스를 안정적으로 운영할 수 있도록 모바일 전자고지와 금융 마이데이터 등 서비스 범위와 관리 기준을 규정한 정보통신망법 시행령 개정안을 마련했다고 11일 밝혔 https://n.news.naver.com/mnews/article/001/0014626459\n",
      "마브렉스, 국내 가상자산거래소 ‘코빗’ 상장 이데일리 블록체인 전문회사 마브렉스(MARBLEX)는 국내 가상자산거래소 코빗에 ‘MBX’ 토큰을 상장했다고 11일 밝혔다. 이용자들은 한국 시간 기준 11일 12시부터 코빗에서 입금을 진행할 수 있다. 17시부터는 MBX https://n.news.naver.com/mnews/article/018/0005712240\n",
      "카카오헬스케어, ‘구글 클라우드 넥스트’ 초청…협력 논의 뉴시스 카카오헬스케어는 이달 9일에서 11일 (현지시각 기준) 미국 라스베가스에서 진행되고 있는 ‘구글 클라우드 넥스트 2024’에서 초청받아 다양한 글로벌 기업들과 사업 협력을 논의했다고 11일 밝혔다. 구글 클라우드가 https://n.news.naver.com/mnews/article/003/0012485664\n",
      "인텔, \"엔비디아 H100 너무 비싸다\"…대항마 '가우디3' 공개 뉴시스 미국 반도체 기업인 인텔이 엔비디아가 장악 중인 AI(인공지능) 반도체 시장에 본격적인 진출을 선언했다. 국내에서도 네이버와 협력을 맺고 공동 연구와 거대언어모델(LLM) 학습 인프라 구축도 추진하기로 했다. 인텔은 https://n.news.naver.com/mnews/article/003/0012485679\n",
      "스페이스린텍, 40억원 규모 '시리즈 A' 투자 유치 한국경제 스페이스린텍은 최근 컴퍼니케이파트너스와 우리벤처파트너스로부터 총 40억원의 ‘시리즈 A’ 투자를 유치했다고 11일 밝혔다. 스페이스린텍은 미국 버지니아 노폭주립대학교 정교수이자 하버드 의대 객원교수인 윤학순 대표가 https://n.news.naver.com/mnews/article/015/0004971568\n",
      "“AI의 유해성 찾는다”…'생성형 AI 레드팀 챌린지'에 1000여명 참여 전자신문 생성형 인공지능(AI) 서비스를 위한 거대언어모델(LLM)의 안전성을 시험하는 대국민 행사에 학생·직장인·교사 등 1000여명이 도전해 AI와 창과 방패의 대결을 벌였다. 과학기술정보통신부와 한국정보통신기술협회(TT https://n.news.naver.com/mnews/article/030/0003197185\n",
      "AI는 ‘효율 싸움'… 구글·인텔, 전성비 높인 반도체 공세 서울경제 구글과 인텔이 효율성에 초점을 맞춘 인공지능(AI) 칩셋을 나란히 공개했다. 거대언어모델(LLM) 개발과 고도화에 막대한 전력이 필요한 만큼 효율이 높은 AI 칩 도입으로 비용을 절감할뿐 아니라 지속 가능한 AI 개 https://n.news.naver.com/mnews/article/011/0004325966\n",
      "넥슨 통 큰 실험 …\"손해나도 괜찮아\" 매일경제 100억원 미만 게임개발 땐 수익성과 지표 안 보기로 창의성·다양성 적극 장려 넥슨이 '제2의 데이브 더 다이브'를 발굴하기 위해 결과적으로 수익이 나지 않더라도 평가에 반영하지 않는 등 파격적인 게임 개발 조건을 https://n.news.naver.com/mnews/article/009/0005286227\n",
      "금융 마이데이터 등에 암호화한 주민번호 일괄 변환 허용 연합뉴스 방송통신위원회는 온라인에서 연계정보를 활용한 국민 편의 서비스를 안정적으로 운영할 수 있도록 모바일 전자고지와 금융 마이데이터 등 서비스 범위와 관리 기준을 규정한 정보통신망법 시행령 개정안을 마련했다고 11일 밝혔 https://n.news.naver.com/mnews/article/001/0014626459\n",
      "마브렉스, 국내 가상자산거래소 ‘코빗’ 상장 이데일리 블록체인 전문회사 마브렉스(MARBLEX)는 국내 가상자산거래소 코빗에 ‘MBX’ 토큰을 상장했다고 11일 밝혔다. 이용자들은 한국 시간 기준 11일 12시부터 코빗에서 입금을 진행할 수 있다. 17시부터는 MBX https://n.news.naver.com/mnews/article/018/0005712240\n",
      "카카오헬스케어, ‘구글 클라우드 넥스트’ 초청…협력 논의 뉴시스 카카오헬스케어는 이달 9일에서 11일 (현지시각 기준) 미국 라스베가스에서 진행되고 있는 ‘구글 클라우드 넥스트 2024’에서 초청받아 다양한 글로벌 기업들과 사업 협력을 논의했다고 11일 밝혔다. 구글 클라우드가 https://n.news.naver.com/mnews/article/003/0012485664\n",
      "인텔, \"엔비디아 H100 너무 비싸다\"…대항마 '가우디3' 공개 뉴시스 미국 반도체 기업인 인텔이 엔비디아가 장악 중인 AI(인공지능) 반도체 시장에 본격적인 진출을 선언했다. 국내에서도 네이버와 협력을 맺고 공동 연구와 거대언어모델(LLM) 학습 인프라 구축도 추진하기로 했다. 인텔은 https://n.news.naver.com/mnews/article/003/0012485679\n",
      "스페이스린텍, 40억원 규모 '시리즈 A' 투자 유치 한국경제 스페이스린텍은 최근 컴퍼니케이파트너스와 우리벤처파트너스로부터 총 40억원의 ‘시리즈 A’ 투자를 유치했다고 11일 밝혔다. 스페이스린텍은 미국 버지니아 노폭주립대학교 정교수이자 하버드 의대 객원교수인 윤학순 대표가 https://n.news.naver.com/mnews/article/015/0004971568\n",
      "“AI의 유해성 찾는다”…'생성형 AI 레드팀 챌린지'에 1000여명 참여 전자신문 생성형 인공지능(AI) 서비스를 위한 거대언어모델(LLM)의 안전성을 시험하는 대국민 행사에 학생·직장인·교사 등 1000여명이 도전해 AI와 창과 방패의 대결을 벌였다. 과학기술정보통신부와 한국정보통신기술협회(TT https://n.news.naver.com/mnews/article/030/0003197185\n",
      "AI는 ‘효율 싸움'… 구글·인텔, 전성비 높인 반도체 공세 서울경제 구글과 인텔이 효율성에 초점을 맞춘 인공지능(AI) 칩셋을 나란히 공개했다. 거대언어모델(LLM) 개발과 고도화에 막대한 전력이 필요한 만큼 효율이 높은 AI 칩 도입으로 비용을 절감할뿐 아니라 지속 가능한 AI 개 https://n.news.naver.com/mnews/article/011/0004325966\n",
      "넥슨 통 큰 실험 …\"손해나도 괜찮아\" 매일경제 100억원 미만 게임개발 땐 수익성과 지표 안 보기로 창의성·다양성 적극 장려 넥슨이 '제2의 데이브 더 다이브'를 발굴하기 위해 결과적으로 수익이 나지 않더라도 평가에 반영하지 않는 등 파격적인 게임 개발 조건을 https://n.news.naver.com/mnews/article/009/0005286227\n",
      "금융 마이데이터 등에 암호화한 주민번호 일괄 변환 허용 연합뉴스 방송통신위원회는 온라인에서 연계정보를 활용한 국민 편의 서비스를 안정적으로 운영할 수 있도록 모바일 전자고지와 금융 마이데이터 등 서비스 범위와 관리 기준을 규정한 정보통신망법 시행령 개정안을 마련했다고 11일 밝혔 https://n.news.naver.com/mnews/article/001/0014626459\n"
     ]
    },
    {
     "ename": "KeyboardInterrupt",
     "evalue": "",
     "output_type": "error",
     "traceback": [
      "\u001b[1;31m---------------------------------------------------------------------------\u001b[0m",
      "\u001b[1;31mKeyboardInterrupt\u001b[0m                         Traceback (most recent call last)",
      "Cell \u001b[1;32mIn[22], line 4\u001b[0m\n\u001b[0;32m      2\u001b[0m schedule\u001b[38;5;241m.\u001b[39mevery(\u001b[38;5;241m5\u001b[39m)\u001b[38;5;241m.\u001b[39mseconds\u001b[38;5;241m.\u001b[39mdo(crawling_news)\n\u001b[0;32m      3\u001b[0m \u001b[38;5;28;01mwhile\u001b[39;00m \u001b[38;5;28;01mTrue\u001b[39;00m:\n\u001b[1;32m----> 4\u001b[0m     schedule\u001b[38;5;241m.\u001b[39mrun_pending()\n\u001b[0;32m      5\u001b[0m     time\u001b[38;5;241m.\u001b[39msleep(\u001b[38;5;241m1\u001b[39m)\n",
      "File \u001b[1;32m~\\anaconda3\\envs\\upstage_assignment_1\\Lib\\site-packages\\schedule\\__init__.py:822\u001b[0m, in \u001b[0;36mrun_pending\u001b[1;34m()\u001b[0m\n\u001b[0;32m    818\u001b[0m \u001b[38;5;28;01mdef\u001b[39;00m \u001b[38;5;21mrun_pending\u001b[39m() \u001b[38;5;241m-\u001b[39m\u001b[38;5;241m>\u001b[39m \u001b[38;5;28;01mNone\u001b[39;00m:\n\u001b[0;32m    819\u001b[0m \u001b[38;5;250m    \u001b[39m\u001b[38;5;124;03m\"\"\"Calls :meth:`run_pending <Scheduler.run_pending>` on the\u001b[39;00m\n\u001b[0;32m    820\u001b[0m \u001b[38;5;124;03m    :data:`default scheduler instance <default_scheduler>`.\u001b[39;00m\n\u001b[0;32m    821\u001b[0m \u001b[38;5;124;03m    \"\"\"\u001b[39;00m\n\u001b[1;32m--> 822\u001b[0m     default_scheduler\u001b[38;5;241m.\u001b[39mrun_pending()\n",
      "File \u001b[1;32m~\\anaconda3\\envs\\upstage_assignment_1\\Lib\\site-packages\\schedule\\__init__.py:100\u001b[0m, in \u001b[0;36mScheduler.run_pending\u001b[1;34m(self)\u001b[0m\n\u001b[0;32m     98\u001b[0m runnable_jobs \u001b[38;5;241m=\u001b[39m (job \u001b[38;5;28;01mfor\u001b[39;00m job \u001b[38;5;129;01min\u001b[39;00m \u001b[38;5;28mself\u001b[39m\u001b[38;5;241m.\u001b[39mjobs \u001b[38;5;28;01mif\u001b[39;00m job\u001b[38;5;241m.\u001b[39mshould_run)\n\u001b[0;32m     99\u001b[0m \u001b[38;5;28;01mfor\u001b[39;00m job \u001b[38;5;129;01min\u001b[39;00m \u001b[38;5;28msorted\u001b[39m(runnable_jobs):\n\u001b[1;32m--> 100\u001b[0m     \u001b[38;5;28mself\u001b[39m\u001b[38;5;241m.\u001b[39m_run_job(job)\n",
      "File \u001b[1;32m~\\anaconda3\\envs\\upstage_assignment_1\\Lib\\site-packages\\schedule\\__init__.py:172\u001b[0m, in \u001b[0;36mScheduler._run_job\u001b[1;34m(self, job)\u001b[0m\n\u001b[0;32m    171\u001b[0m \u001b[38;5;28;01mdef\u001b[39;00m \u001b[38;5;21m_run_job\u001b[39m(\u001b[38;5;28mself\u001b[39m, job: \u001b[38;5;124m\"\u001b[39m\u001b[38;5;124mJob\u001b[39m\u001b[38;5;124m\"\u001b[39m) \u001b[38;5;241m-\u001b[39m\u001b[38;5;241m>\u001b[39m \u001b[38;5;28;01mNone\u001b[39;00m:\n\u001b[1;32m--> 172\u001b[0m     ret \u001b[38;5;241m=\u001b[39m job\u001b[38;5;241m.\u001b[39mrun()\n\u001b[0;32m    173\u001b[0m     \u001b[38;5;28;01mif\u001b[39;00m \u001b[38;5;28misinstance\u001b[39m(ret, CancelJob) \u001b[38;5;129;01mor\u001b[39;00m ret \u001b[38;5;129;01mis\u001b[39;00m CancelJob:\n\u001b[0;32m    174\u001b[0m         \u001b[38;5;28mself\u001b[39m\u001b[38;5;241m.\u001b[39mcancel_job(job)\n",
      "File \u001b[1;32m~\\anaconda3\\envs\\upstage_assignment_1\\Lib\\site-packages\\schedule\\__init__.py:693\u001b[0m, in \u001b[0;36mJob.run\u001b[1;34m(self)\u001b[0m\n\u001b[0;32m    690\u001b[0m     \u001b[38;5;28;01mreturn\u001b[39;00m CancelJob\n\u001b[0;32m    692\u001b[0m logger\u001b[38;5;241m.\u001b[39mdebug(\u001b[38;5;124m\"\u001b[39m\u001b[38;5;124mRunning job \u001b[39m\u001b[38;5;132;01m%s\u001b[39;00m\u001b[38;5;124m\"\u001b[39m, \u001b[38;5;28mself\u001b[39m)\n\u001b[1;32m--> 693\u001b[0m ret \u001b[38;5;241m=\u001b[39m \u001b[38;5;28mself\u001b[39m\u001b[38;5;241m.\u001b[39mjob_func()\n\u001b[0;32m    694\u001b[0m \u001b[38;5;28mself\u001b[39m\u001b[38;5;241m.\u001b[39mlast_run \u001b[38;5;241m=\u001b[39m datetime\u001b[38;5;241m.\u001b[39mdatetime\u001b[38;5;241m.\u001b[39mnow()\n\u001b[0;32m    695\u001b[0m \u001b[38;5;28mself\u001b[39m\u001b[38;5;241m.\u001b[39m_schedule_next_run()\n",
      "Cell \u001b[1;32mIn[17], line 4\u001b[0m, in \u001b[0;36mcrawling_news\u001b[1;34m()\u001b[0m\n\u001b[0;32m      2\u001b[0m url\u001b[38;5;241m=\u001b[39m\u001b[38;5;124m'\u001b[39m\u001b[38;5;124mhttps://news.naver.com/section/105\u001b[39m\u001b[38;5;124m'\u001b[39m\n\u001b[0;32m      3\u001b[0m driver\u001b[38;5;241m.\u001b[39mget(url)\n\u001b[1;32m----> 4\u001b[0m time\u001b[38;5;241m.\u001b[39msleep(\u001b[38;5;241m1\u001b[39m)\n\u001b[0;32m      6\u001b[0m driver\u001b[38;5;241m.\u001b[39mfind_element(By\u001b[38;5;241m.\u001b[39mXPATH,\u001b[38;5;124m'\u001b[39m\u001b[38;5;124m//*[@id=\u001b[39m\u001b[38;5;124m\"\u001b[39m\u001b[38;5;124mnewsct\u001b[39m\u001b[38;5;124m\"\u001b[39m\u001b[38;5;124m]/div[1]/div[2]/a\u001b[39m\u001b[38;5;124m'\u001b[39m)\u001b[38;5;241m.\u001b[39mclick()\n\u001b[0;32m      7\u001b[0m time\u001b[38;5;241m.\u001b[39msleep(\u001b[38;5;241m0.3\u001b[39m)\n",
      "\u001b[1;31mKeyboardInterrupt\u001b[0m: "
     ]
    }
   ],
   "source": [
    "# schedule.every().day.at(\"17:45\").do(crawling_news)\n",
    "schedule.every(5).seconds.do(crawling_news)\n",
    "while True:\n",
    "    schedule.run_pending()\n",
    "    time.sleep(1)"
   ]
  },
  {
   "cell_type": "markdown",
   "id": "824a8152-90ff-43fd-b764-ea38e2b188d3",
   "metadata": {},
   "source": [
    "### 웹사이트에서 도시 검색"
   ]
  },
  {
   "cell_type": "markdown",
   "id": "c7fe48e2-5573-43b0-9ba0-66ecad5100eb",
   "metadata": {},
   "source": [
    "뉴욕 - 런던 - 파리 - 도쿄 - 베이징 - 홍콩 - 로스앤젤레스 - 시카고 - 싱가포르 - 워싱턴 D.C."
   ]
  },
  {
   "cell_type": "code",
   "execution_count": 3,
   "id": "5fc8b59d-cd04-4f17-b05f-f7683a36f4a2",
   "metadata": {},
   "outputs": [
    {
     "name": "stdout",
     "output_type": "stream",
     "text": [
      "현재 온도 13° 흐림 체감온도 11°\n",
      "4.11. 08:37\n",
      "1년 뒤에 배달되는 우체통 들어보셨나요 지디넷코리아 우체통에 편지를 넣으면 1년 뒤에 배달된다. 말 그대로 ‘느린우체통’이다. 서울 중앙우체국 우표박물관에 있는 이 우체통은 과거와 현재, 미래를 연결한다는 뜻을 담고 있다. 우정사업본부에 따르면, 느린우체통은 만남과 https://n.news.naver.com/mnews/article/092/0002327627\n",
      "델, AI 기반 클라이언트 신제품 공개.. \"고객들의 AI 시대 지원하겠다\" 파이낸셜뉴스 “경쟁력 강화를 원하는 모든 기업들은 어떤 방식으로든 AI를 구현해야 하며 AI PC는 그 중심축 역할을 하게 될 거다. 델은 커머셜 포트폴리오 전반에서 더 많은 AI PC를 제공해 고객들이 AI 시대에 대비할 수 https://n.news.naver.com/mnews/article/014/0005169904\n",
      "넷마블 마브렉스, '코빗' 상장…오후 5시부터 MBX 토큰 거래 가능 아이뉴스24 넷마블의 블록체인 전문회사 마브렉스는 국내 가상자산거래소 코빗에 MBX 토큰을 상장했다고 11일 밝혔다. 이용자들은 한국 시간 기준 11일 12시부터 코빗에서 입금을 진행할 수 있으며, 17시부터는 MBX 토큰 거래 https://n.news.naver.com/mnews/article/031/0000827680\n",
      "독일 막스플랑크 센터 한국 설립 추진…한·독 기초과학 발전 협력 강화 전자신문 한국과 독일이 학술교류와 인재 양성, 공동연구센터 설립 등 기초과학 발전을 위한 협력을 강화한다. 과학기술정보통신부는 11일 연세대에서 독일 막스플랑크 연구회와 기초과학연구원(IBS), 연세대가 공동으로 '글로벌 과 https://n.news.naver.com/mnews/article/030/0003197132\n",
      "네이버·인텔 AI동맹 강화...공동연구센터 설립 헤럴드경제 네이버와 인텔의 인공지능(AI) 동맹이 공고해진다. 인텔의 새로운 AI칩 ‘가우디 3’을 기반으로 새로운 AI 생태계 구축을 위한 공동 연구에 나선다. 11일 네이버클라우드는 인텔과 함께 국내 학계 및 스타트업 등과 https://n.news.naver.com/mnews/article/016/0002293511\n",
      "스페이스린텍, 40억원 규모 '시리즈 A' 투자 유치 한국경제 스페이스린텍은 최근 컴퍼니케이파트너스와 우리벤처파트너스로부터 총 40억원의 ‘시리즈 A’ 투자를 유치했다고 11일 밝혔다. 스페이스린텍은 미국 버지니아 노폭주립대학교 정교수이자 하버드 의대 객원교수인 윤학순 대표가 https://n.news.naver.com/mnews/article/015/0004971568\n",
      "\"의사 다수 포진한 구글, 헬스케어 AI 최적 파트너\" 서울경제 “구글은 오픈AI와 함께 생성형 인공지능(AI) 시장을 이끌고 있을 뿐 아니라 ‘헬스 이니셔티브’ 팀 내에 의사들이 다수 포진해 있어서 기술만이 아닌 전문 의료영역의 여러 난제들을 논의하기에 최적의 파트너입니다.” https://n.news.naver.com/mnews/article/011/0004326138\n",
      "‘클라우드 3위’ 구글의 반격… 칩 개발, 우군 확보까지 국민일보 ‘클라우드 만년 3위’ 구글이 중앙처리장치(CPU)와 인공지능(AI) 칩을 자체 개발하고 AI 포트폴리오를 늘리며 아마존웹서비스(AWS), 마이크로소프트(MS) 추격에 나섰다. 구글 클라우드는 9일(현지시간) 미국 https://n.news.naver.com/mnews/article/005/0001687836\n"
     ]
    }
   ],
   "source": [
    "url='https://m.naver.com/'\n",
    "driver.get(url)\n",
    "time.sleep(1)\n",
    "\n",
    "city='런던'\n",
    "selection=['날씨','현지시각','뉴스']\n",
    "\n",
    "driver.find_element(By.XPATH,'//*[@id=\"MM_SEARCH_FAKE\"]').click()\n",
    "driver.find_element(By.XPATH,'//*[@id=\"query\"]').send_keys(f'{city} 날씨')\n",
    "driver.find_element(By.XPATH,'//*[@id=\"sch_w\"]/div/form/button').click()\n",
    "time.sleep(1)\n",
    "\n",
    "# 글로벌 도시 날씨\n",
    "if '날씨' in selection:\n",
    "    \n",
    "    # csv저장을 위한 dataframe 생성\n",
    "    df = pd.DataFrame(columns=['city','temperature','sky','feel_temperature']) \n",
    "    \n",
    "    weather = driver.find_element(By.XPATH,'//*[@id=\"ct\"]/section[1]/div/div[2]/div/div/div[1]/div[1]/div/div[2]/div/div[1]/div[2]').text\n",
    "    weather=weather.split('\\n') \n",
    "    temperature=\" \".join(weather[0:2])\n",
    "    sky=weather[2]\n",
    "    feel_temperature=weather[3]\n",
    "    \n",
    "    print(temperature, sky, feel_temperature)\n",
    "    df.loc[0] = [city,temperature, sky, feel_temperature]\n",
    "    \n",
    "    # dataframe를 csv로 저장\n",
    "    df.to_csv(\"city_weather.csv\", encoding='utf-8-sig',index=False) # dataframe을 csv로\n",
    "\n",
    "# 글로벌 도시 현지시각    \n",
    "if '현지시각' in selection:\n",
    "    \n",
    "    # csv저장을 위한 dataframe 생성\n",
    "    df = pd.DataFrame(columns=['city','city_time']) \n",
    "    \n",
    "    city_time=driver.find_element(By.XPATH,'//*[@id=\"ct\"]/section[1]/div/div[2]/div/div/div[1]/div[1]/div/div[2]/div/div[2]/dl[1]/dd[1]').text\n",
    "    print(city_time)\n",
    "    \n",
    "    df.loc[0] = [city,city_time]\n",
    "\n",
    "    # dataframe를 csv로 저장\n",
    "    df.to_csv(\"city_time.csv\", encoding='utf-8-sig',index=False) # dataframe을 csv로\n",
    "\n",
    "# 글로벌 뉴스 \n",
    "if '뉴스' in selection :\n",
    "  # csv 만들고 보내는 코드 추후 구현\n",
    "  pass"
   ]
  },
  {
   "cell_type": "markdown",
   "id": "20c151cf-16fe-4228-9d2c-89295c6a7637",
   "metadata": {},
   "source": [
    "### 도시이름 잘 검색되는지 한번에 확인하고 싶을때 부록"
   ]
  },
  {
   "cell_type": "code",
   "execution_count": null,
   "id": "7549de0c-eb5c-4eee-9d48-2ca54b4c55f2",
   "metadata": {},
   "outputs": [],
   "source": [
    "# 한번에 확인하고 싶을때\n",
    "citys=['뉴욕','런던','파리','도쿄','베이징','홍콩','로스앤젤레스','시카고','싱가포르','워싱턴DC']\n",
    "for city in citys:\n",
    "    driver.get(url)\n",
    "    time.sleep(1)\n",
    "    driver.find_element(By.XPATH,'//*[@id=\"MM_SEARCH_FAKE\"]').click()\n",
    "    driver.find_element(By.XPATH,'//*[@id=\"query\"]').send_keys(f'{city} 날씨')\n",
    "    driver.find_element(By.XPATH,'//*[@id=\"sch_w\"]/div/form/button').click()\n",
    "    time.sleep(1)\n",
    "    print(city)\n",
    "    \n",
    "    # 글로벌 도시 날씨\n",
    "    weather = driver.find_element(By.XPATH,'//*[@id=\"ct\"]/section[1]/div/div[2]/div/div/div[1]/div[1]/div/div[2]/div/div[1]/div[2]').text\n",
    "    weather=weather.split('\\n') \n",
    "    temperature=\" \".join(weather[0:2])\n",
    "    sky=weather[2]\n",
    "    feel_temperature=weather[3]\n",
    "    print(temperature, sky, feel_temperature)\n",
    "\n",
    "    # 글로벌 도시 현지시각\n",
    "    city_time=driver.find_element(By.XPATH,'//*[@id=\"ct\"]/section[1]/div/div[2]/div/div/div[1]/div[1]/div/div[2]/div/div[2]/dl[1]/dd[1]').text\n",
    "    print(city_time)"
   ]
  }
 ],
 "metadata": {
  "kernelspec": {
   "display_name": "upstage_assignment_1",
   "language": "python",
   "name": "upstage_assignment_1"
  },
  "language_info": {
   "codemirror_mode": {
    "name": "ipython",
    "version": 3
   },
   "file_extension": ".py",
   "mimetype": "text/x-python",
   "name": "python",
   "nbconvert_exporter": "python",
   "pygments_lexer": "ipython3",
   "version": "3.11.8"
  }
 },
 "nbformat": 4,
 "nbformat_minor": 5
}
