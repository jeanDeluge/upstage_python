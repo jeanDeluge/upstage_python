{
 "cells": [
  {
   "cell_type": "code",
   "execution_count": null,
   "id": "1e895ece-73be-41f8-bae8-8eb37df89c6f",
   "metadata": {},
   "outputs": [],
   "source": []
  }
 ],
 "metadata": {
  "kernelspec": {
   "display_name": "upstage_assignment_1",
   "language": "python",
   "name": "upstage_assignment_1"
  },
  "language_info": {
   "codemirror_mode": {
    "name": "ipython",
    "version": 3
   },
   "file_extension": ".py",
   "mimetype": "text/x-python",
   "name": "python",
   "nbconvert_exporter": "python",
   "pygments_lexer": "ipython3",
   "version": "3.11.8"
  }
 },
 "nbformat": 4,
 "nbformat_minor": 5
}
